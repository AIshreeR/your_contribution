{
  "cells": [
    {
      "cell_type": "code",
      "execution_count": 1,
      "metadata": {
        "id": "aOMTTyu_9SSw"
      },
      "outputs": [],
      "source": [
        "import tensorflow as tf\n",
        "from tensorflow.keras.models import Sequential\n",
        "from tensorflow.keras.layers import Conv2D\n",
        "from tensorflow.keras.layers import MaxPool2D\n",
        "from tensorflow.keras.layers import Dense\n",
        "from tensorflow.keras import layers\n",
        "from tensorflow.keras.datasets import mnist\n",
        "import matplotlib.pyplot as plt\n",
        "from tensorflow.keras import utils\n",
        "import pandas as pd\n",
        "import numpy as np\n",
        "from sklearn.metrics import classification_report,confusion_matrix\n",
        "from tensorflow.keras.preprocessing import image"
      ]
    },
    {
      "cell_type": "code",
      "execution_count": 2,
      "metadata": {},
      "outputs": [
        {
          "name": "stdout",
          "output_type": "stream",
          "text": [
            ": /physical_device:CPU:0\n",
            ": /physical_device:GPU:0\n"
          ]
        }
      ],
      "source": [
        "for device in tf.config.list_physical_devices():\n",
        "    print(\": {}\".format(device.name))"
      ]
    },
    {
      "cell_type": "code",
      "execution_count": 3,
      "metadata": {},
      "outputs": [],
      "source": [
        "phy_dev=tf.config.list_physical_devices('GPU')"
      ]
    },
    {
      "cell_type": "code",
      "execution_count": 4,
      "metadata": {
        "colab": {
          "base_uri": "https://localhost:8080/"
        },
        "id": "RixqQkva_VWn",
        "outputId": "bd13fc02-9180-41bc-e92e-909ce94b9b29"
      },
      "outputs": [],
      "source": [
        "(x_train,y_train),(x_test,y_test)=mnist.load_data()"
      ]
    },
    {
      "cell_type": "code",
      "execution_count": 5,
      "metadata": {
        "colab": {
          "base_uri": "https://localhost:8080/",
          "height": 282
        },
        "id": "-Jg8wjo2FRF9",
        "outputId": "a5d9d42e-267a-451e-d28f-dbd15a25035f"
      },
      "outputs": [
        {
          "data": {
            "text/plain": [
              "<matplotlib.image.AxesImage at 0x14cb7c3d570>"
            ]
          },
          "execution_count": 5,
          "metadata": {},
          "output_type": "execute_result"
        },
        {
          "data": {
            "image/png": "[encoded data removed]",
            "text/plain": [
              "<Figure size 640x480 with 1 Axes>"
            ]
          },
          "metadata": {},
          "output_type": "display_data"
        }
      ],
      "source": [
        "plt.imshow(x_train[0],cmap='gray')"
      ]
    },
    {
      "cell_type": "code",
      "execution_count": 6,
      "metadata": {
        "id": "_kPp_niUF56E"
      },
      "outputs": [],
      "source": [
        "x_train_scaled=x_train/255\n",
        "x_test_scaled=x_test/255"
      ]
    },
    {
      "cell_type": "code",
      "execution_count": 7,
      "metadata": {
        "colab": {
          "base_uri": "https://localhost:8080/"
        },
        "id": "glps9L_fGI3r",
        "outputId": "78a01182-21a9-499e-c5d0-93a476c4091c"
      },
      "outputs": [
        {
          "name": "stdout",
          "output_type": "stream",
          "text": [
            "0.0\n"
          ]
        },
        {
          "data": {
            "text/plain": [
              "1.0"
            ]
          },
          "execution_count": 7,
          "metadata": {},
          "output_type": "execute_result"
        }
      ],
      "source": [
        "print(x_train_scaled.min())\n",
        "x_train_scaled.max()"
      ]
    },
    {
      "cell_type": "code",
      "execution_count": 8,
      "metadata": {
        "id": "uoCrVopSGM8b"
      },
      "outputs": [],
      "source": [
        "y_train_onehot = utils.to_categorical(y_train,10)\n",
        "y_test_onehot = utils.to_categorical(y_test,10)"
      ]
    },
    {
      "cell_type": "code",
      "execution_count": 9,
      "metadata": {
        "id": "sRSwT8_WFMw8"
      },
      "outputs": [],
      "source": [
        "x_train_scaled = x_train_scaled.reshape(-1,28,28,1)\n",
        "x_test_scaled = x_test_scaled.reshape(-1,28,28,1)"
      ]
    },
    {
      "cell_type": "code",
      "execution_count": 10,
      "metadata": {
        "id": "ELjWZwKT9dIG"
      },
      "outputs": [],
      "source": [
        "model=Sequential([layers.Input(shape=(28,28,1)),\n",
        "                  Conv2D(filters=32,kernel_size=(5,5),strides=(1,1),padding='valid',activation='relu'),\n",
        "                  MaxPool2D(pool_size=(2,2)),\n",
        "                  Conv2D(filters=64,kernel_size=(5,5),strides=(1,1),padding='same',activation='relu'),\n",
        "                  MaxPool2D(pool_size=(2,2)),\n",
        "                  layers.Flatten(),\n",
        "                  Dense(8,activation='relu'),\n",
        "                  Dense(10,activation='softmax')\n",
        "                  ])"
      ]
    },
    {
      "cell_type": "code",
      "execution_count": 11,
      "metadata": {
        "colab": {
          "base_uri": "https://localhost:8080/"
        },
        "id": "1tRmXw0u-ndf",
        "outputId": "83b0db39-1c89-406b-b683-7fd8d51d7b2e"
      },
      "outputs": [
        {
          "name": "stdout",
          "output_type": "stream",
          "text": [
            "Model: \"sequential\"\n",
            "_________________________________________________________________\n",
            " Layer (type)                Output Shape              Param #   \n",
            "=================================================================\n",
            " conv2d (Conv2D)             (None, 24, 24, 32)        832       \n",
            "                                                                 \n",
            " max_pooling2d (MaxPooling2D  (None, 12, 12, 32)       0         \n",
            " )                                                               \n",
            "                                                                 \n",
            " conv2d_1 (Conv2D)           (None, 12, 12, 64)        51264     \n",
            "                                                                 \n",
            " max_pooling2d_1 (MaxPooling  (None, 6, 6, 64)         0         \n",
            " 2D)                                                             \n",
            "                                                                 \n",
            " flatten (Flatten)           (None, 2304)              0         \n",
            "                                                                 \n",
            " dense (Dense)               (None, 8)                 18440     \n",
            "                                                                 \n",
            " dense_1 (Dense)             (None, 10)                90        \n",
            "                                                                 \n",
            "=================================================================\n",
            "Total params: 70,626\n",
            "Trainable params: 70,626\n",
            "Non-trainable params: 0\n",
            "_________________________________________________________________\n"
          ]
        }
      ],
      "source": [
        "model.summary()"
      ]
    },
    {
      "cell_type": "code",
      "execution_count": 12,
      "metadata": {
        "id": "StQvTKfkG7l0"
      },
      "outputs": [],
      "source": [
        "model.compile(optimizer='Adam',\n",
        "                 loss='categorical_crossentropy',\n",
        "                 metrics=['accuracy'])"
      ]
    },
    {
      "cell_type": "code",
      "execution_count": 13,
      "metadata": {
        "colab": {
          "base_uri": "https://localhost:8080/"
        },
        "id": "hFKgtM76HM68",
        "outputId": "4d90ec75-cc74-4982-d967-27f09dd0880d"
      },
      "outputs": [
        {
          "name": "stdout",
          "output_type": "stream",
          "text": [
            "Epoch 1/15\n",
            "235/235 [==============================] - 17s 19ms/step - loss: 0.8045 - accuracy: 0.7426 - val_loss: 0.1897 - val_accuracy: 0.9466\n",
            "Epoch 2/15\n",
            "235/235 [==============================] - 3s 12ms/step - loss: 0.1420 - accuracy: 0.9614 - val_loss: 0.0981 - val_accuracy: 0.9702\n",
            "Epoch 3/15\n",
            "235/235 [==============================] - 2s 10ms/step - loss: 0.0896 - accuracy: 0.9745 - val_loss: 0.0692 - val_accuracy: 0.9786\n",
            "Epoch 4/15\n",
            "235/235 [==============================] - 3s 11ms/step - loss: 0.0693 - accuracy: 0.9798 - val_loss: 0.0586 - val_accuracy: 0.9812\n",
            "Epoch 5/15\n",
            "235/235 [==============================] - 2s 10ms/step - loss: 0.0562 - accuracy: 0.9834 - val_loss: 0.0490 - val_accuracy: 0.9855\n",
            "Epoch 6/15\n",
            "235/235 [==============================] - 2s 10ms/step - loss: 0.0482 - accuracy: 0.9860 - val_loss: 0.0522 - val_accuracy: 0.9845\n",
            "Epoch 7/15\n",
            "235/235 [==============================] - 3s 11ms/step - loss: 0.0442 - accuracy: 0.9871 - val_loss: 0.0393 - val_accuracy: 0.9886\n",
            "Epoch 8/15\n",
            "235/235 [==============================] - 3s 13ms/step - loss: 0.0366 - accuracy: 0.9892 - val_loss: 0.0400 - val_accuracy: 0.9874\n",
            "Epoch 9/15\n",
            "235/235 [==============================] - 3s 11ms/step - loss: 0.0318 - accuracy: 0.9908 - val_loss: 0.0362 - val_accuracy: 0.9892\n",
            "Epoch 10/15\n",
            "235/235 [==============================] - 2s 10ms/step - loss: 0.0298 - accuracy: 0.9915 - val_loss: 0.0393 - val_accuracy: 0.9868\n",
            "Epoch 11/15\n",
            "235/235 [==============================] - 2s 10ms/step - loss: 0.0259 - accuracy: 0.9926 - val_loss: 0.0361 - val_accuracy: 0.9896\n",
            "Epoch 12/15\n",
            "235/235 [==============================] - 3s 11ms/step - loss: 0.0245 - accuracy: 0.9927 - val_loss: 0.0346 - val_accuracy: 0.9901\n",
            "Epoch 13/15\n",
            "235/235 [==============================] - 3s 11ms/step - loss: 0.0218 - accuracy: 0.9936 - val_loss: 0.0362 - val_accuracy: 0.9885\n",
            "Epoch 14/15\n",
            "235/235 [==============================] - 3s 11ms/step - loss: 0.0181 - accuracy: 0.9948 - val_loss: 0.0346 - val_accuracy: 0.9893\n",
            "Epoch 15/15\n",
            "235/235 [==============================] - 3s 11ms/step - loss: 0.0155 - accuracy: 0.9954 - val_loss: 0.0334 - val_accuracy: 0.9899\n"
          ]
        },
        {
          "data": {
            "text/plain": [
              "<keras.callbacks.History at 0x14ce675d6f0>"
            ]
          },
          "execution_count": 13,
          "metadata": {},
          "output_type": "execute_result"
        }
      ],
      "source": [
        "\n",
        "model.fit(x_train_scaled ,y_train_onehot, epochs=15,\n",
        "          batch_size=256, \n",
        "          validation_data=(x_test_scaled,y_test_onehot))"
      ]
    },
    {
      "cell_type": "code",
      "execution_count": 14,
      "metadata": {
        "id": "Whw7n-zSHl5E"
      },
      "outputs": [],
      "source": [
        "metrics = pd.DataFrame(model.history.history)"
      ]
    },
    {
      "cell_type": "code",
      "execution_count": 15,
      "metadata": {
        "colab": {
          "base_uri": "https://localhost:8080/",
          "height": 282
        },
        "id": "huuGFq_2KNEt",
        "outputId": "08d9ba0d-76e9-4663-c8be-b20ce55351dd"
      },
      "outputs": [
        {
          "data": {
            "text/plain": [
              "<AxesSubplot: >"
            ]
          },
          "execution_count": 15,
          "metadata": {},
          "output_type": "execute_result"
        },
        {
          "data": {
            "image/png": "[encoded data removed]",
            "text/plain": [
              "<Figure size 640x480 with 1 Axes>"
            ]
          },
          "metadata": {},
          "output_type": "display_data"
        }
      ],
      "source": [
        "metrics[['accuracy','val_accuracy']].plot()"
      ]
    },
    {
      "cell_type": "code",
      "execution_count": 16,
      "metadata": {
        "colab": {
          "base_uri": "https://localhost:8080/",
          "height": 282
        },
        "id": "7_xNQs8oLkI8",
        "outputId": "06cf69e9-36ce-4dc6-a0a1-8ed3c20920a1"
      },
      "outputs": [
        {
          "data": {
            "text/plain": [
              "<AxesSubplot: >"
            ]
          },
          "execution_count": 16,
          "metadata": {},
          "output_type": "execute_result"
        },
        {
          "data": {
            "image/png": "[encoded data removed]",
            "text/plain": [
              "<Figure size 640x480 with 1 Axes>"
            ]
          },
          "metadata": {},
          "output_type": "display_data"
        }
      ],
      "source": [
        "metrics[['loss','val_loss']].plot()\n"
      ]
    },
    {
      "cell_type": "code",
      "execution_count": 17,
      "metadata": {
        "id": "AbWgeTPILl5k"
      },
      "outputs": [
        {
          "name": "stdout",
          "output_type": "stream",
          "text": [
            "313/313 [==============================] - 2s 5ms/step\n"
          ]
        }
      ],
      "source": [
        "x_test_predictions = np.argmax(model.predict(x_test_scaled), axis=1)\n"
      ]
    },
    {
      "cell_type": "code",
      "execution_count": 18,
      "metadata": {
        "colab": {
          "base_uri": "https://localhost:8080/"
        },
        "id": "E3ybsrvzLysk",
        "outputId": "664085b8-8664-4bed-9ac1-d05ac1160978"
      },
      "outputs": [
        {
          "name": "stdout",
          "output_type": "stream",
          "text": [
            "[[ 977    0    1    0    0    0    1    1    0    0]\n",
            " [   0 1131    1    0    1    0    1    1    0    0]\n",
            " [   2    2 1025    0    1    0    0    2    0    0]\n",
            " [   0    0    6  992    0    6    0    2    4    0]\n",
            " [   0    0    0    0  977    0    2    0    2    1]\n",
            " [   1    0    1    6    0  880    3    0    1    0]\n",
            " [   2    2    3    0    1    1  949    0    0    0]\n",
            " [   0    3    5    0    0    0    0 1019    1    0]\n",
            " [   3    0    2    1    0    1    2    1  964    0]\n",
            " [   1    0    0    1   11    5    0    4    2  985]]\n"
          ]
        }
      ],
      "source": [
        "print(confusion_matrix(y_test,x_test_predictions))"
      ]
    },
    {
      "cell_type": "code",
      "execution_count": 19,
      "metadata": {
        "colab": {
          "base_uri": "https://localhost:8080/"
        },
        "id": "6nCSS4JWMKJE",
        "outputId": "d65282b6-68f8-4915-9b02-cf96b5aa3e51"
      },
      "outputs": [
        {
          "name": "stdout",
          "output_type": "stream",
          "text": [
            "              precision    recall  f1-score   support\n",
            "\n",
            "           0       0.99      1.00      0.99       980\n",
            "           1       0.99      1.00      1.00      1135\n",
            "           2       0.98      0.99      0.99      1032\n",
            "           3       0.99      0.98      0.99      1010\n",
            "           4       0.99      0.99      0.99       982\n",
            "           5       0.99      0.99      0.99       892\n",
            "           6       0.99      0.99      0.99       958\n",
            "           7       0.99      0.99      0.99      1028\n",
            "           8       0.99      0.99      0.99       974\n",
            "           9       1.00      0.98      0.99      1009\n",
            "\n",
            "    accuracy                           0.99     10000\n",
            "   macro avg       0.99      0.99      0.99     10000\n",
            "weighted avg       0.99      0.99      0.99     10000\n",
            "\n"
          ]
        }
      ],
      "source": [
        "print(classification_report(y_test,x_test_predictions))\n"
      ]
    },
    {
      "cell_type": "code",
      "execution_count": 20,
      "metadata": {
        "id": "7y_IeuFjMWxj"
      },
      "outputs": [],
      "source": [
        "img = image.load_img('img.png')"
      ]
    },
    {
      "cell_type": "code",
      "execution_count": 21,
      "metadata": {
        "id": "_bo49vEBNNcC"
      },
      "outputs": [],
      "source": [
        "img_tensor = tf.convert_to_tensor(np.asarray(img))\n",
        "img_28 = tf.image.resize(img_tensor,(28,28))\n",
        "img_28_gray = tf.image.rgb_to_grayscale(img_28)\n",
        "img_28_gray_scaled = img_28_gray.numpy()/255.0"
      ]
    },
    {
      "cell_type": "code",
      "execution_count": 22,
      "metadata": {
        "colab": {
          "base_uri": "https://localhost:8080/",
          "height": 282
        },
        "id": "f4wiu6giNisU",
        "outputId": "53808a9b-04ec-40b7-b12a-52efed4ae194"
      },
      "outputs": [
        {
          "data": {
            "text/plain": [
              "<matplotlib.image.AxesImage at 0x14df7c77940>"
            ]
          },
          "execution_count": 22,
          "metadata": {},
          "output_type": "execute_result"
        },
        {
          "data": {
            "image/png": "[encoded data removed]",
            "text/plain": [
              "<Figure size 640x480 with 1 Axes>"
            ]
          },
          "metadata": {},
          "output_type": "display_data"
        }
      ],
      "source": [
        "plt.imshow(img_28_gray_scaled.reshape(28,28),cmap='gray')"
      ]
    },
    {
      "cell_type": "code",
      "execution_count": 23,
      "metadata": {
        "colab": {
          "base_uri": "https://localhost:8080/"
        },
        "id": "QgrYtzaqNduM",
        "outputId": "690149d2-97a4-4772-9736-451c78e2f9fa"
      },
      "outputs": [
        {
          "name": "stdout",
          "output_type": "stream",
          "text": [
            "1/1 [==============================] - 0s 98ms/step\n"
          ]
        },
        {
          "data": {
            "text/plain": [
              "array([4], dtype=int64)"
            ]
          },
          "execution_count": 23,
          "metadata": {},
          "output_type": "execute_result"
        }
      ],
      "source": [
        "np.argmax(model.predict(img_28_gray_scaled.reshape(1,28,28,1)),axis=1)"
      ]
    }
  ],
  "metadata": {
    "accelerator": "GPU",
    "colab": {
      "collapsed_sections": [],
      "provenance": []
    },
    "gpuClass": "standard",
    "kernelspec": {
      "display_name": "Python 3.10.5 64-bit",
      "language": "python",
      "name": "python3"
    },
    "language_info": {
      "codemirror_mode": {
        "name": "ipython",
        "version": 3
      },
      "file_extension": ".py",
      "mimetype": "text/x-python",
      "name": "python",
      "nbconvert_exporter": "python",
      "pygments_lexer": "ipython3",
      "version": "3.10.5"
    },
    "vscode": {
      "interpreter": {
        "hash": "422fde66010521008d0be76fe9d1eb3bf196c4a23f0b2c05b9ae549e1c79a296"
      }
    }
  },
  "nbformat": 4,
  "nbformat_minor": 0
}
